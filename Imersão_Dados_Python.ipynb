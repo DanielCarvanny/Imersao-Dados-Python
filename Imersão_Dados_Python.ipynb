{
  "nbformat": 4,
  "nbformat_minor": 0,
  "metadata": {
    "colab": {
      "provenance": [],
      "toc_visible": true,
      "authorship_tag": "ABX9TyOfT+CgbANzj+xeztFxARGW",
      "include_colab_link": true
    },
    "kernelspec": {
      "name": "python3",
      "display_name": "Python 3"
    },
    "language_info": {
      "name": "python"
    }
  },
  "cells": [
    {
      "cell_type": "markdown",
      "metadata": {
        "id": "view-in-github",
        "colab_type": "text"
      },
      "source": [
        "<a href=\"https://colab.research.google.com/github/DanielCarvanny/Imersao-Dados-Python/blob/main/Imers%C3%A3o_Dados_Python.ipynb\" target=\"_parent\"><img src=\"https://colab.research.google.com/assets/colab-badge.svg\" alt=\"Open In Colab\"/></a>"
      ]
    },
    {
      "cell_type": "markdown",
      "source": [
        "# Aula 1 - Análise de Dados com Pandas"
      ],
      "metadata": {
        "id": "eqdYBq7H7Txm"
      }
    },
    {
      "cell_type": "code",
      "source": [
        "import pandas as pd"
      ],
      "metadata": {
        "id": "6VIvmy3Q6LqM"
      },
      "execution_count": null,
      "outputs": []
    },
    {
      "cell_type": "code",
      "source": [
        "# Importação da base de Dados\n",
        "df = pd.read_csv(\"https://raw.githubusercontent.com/guilhermeonrails/data-jobs/refs/heads/main/salaries.csv\")\n",
        "# df = DataFrame"
      ],
      "metadata": {
        "id": "ODbyW6bm6j7r"
      },
      "execution_count": null,
      "outputs": []
    },
    {
      "cell_type": "code",
      "source": [
        "# Imprime a tabela da base de dados\n",
        "df.head()"
      ],
      "metadata": {
        "id": "9ykNsjIe84R2"
      },
      "execution_count": null,
      "outputs": []
    },
    {
      "cell_type": "code",
      "source": [
        "# Retorna todos os dados da tabela com seus formatos.\n",
        "df.info()"
      ],
      "metadata": {
        "id": "4c9saShA9XzM"
      },
      "execution_count": null,
      "outputs": []
    },
    {
      "cell_type": "code",
      "source": [
        "# Descreve a base retornando uma estatística da tabela\n",
        "df.describe()"
      ],
      "metadata": {
        "id": "QFs9Mkbh-ASz"
      },
      "execution_count": null,
      "outputs": []
    },
    {
      "cell_type": "code",
      "source": [
        "# Exibe qual o tamanho da Base\n",
        "df.shape"
      ],
      "metadata": {
        "id": "VT213gzf-9zd"
      },
      "execution_count": null,
      "outputs": []
    },
    {
      "cell_type": "code",
      "source": [
        "# Imprimir tamanho da Tabela por Linhas e Colunas\n",
        "linhas, colunas = df.shape[0], df.shape[1]\n",
        "print(\"Linhas: \", linhas)\n",
        "print(\"Colunas: \", colunas)"
      ],
      "metadata": {
        "id": "1gHUkT7W_l8G"
      },
      "execution_count": null,
      "outputs": []
    },
    {
      "cell_type": "code",
      "source": [
        "# Escrever nome das colunas\n",
        "df.columns"
      ],
      "metadata": {
        "id": "1tMD3o-PBQhB"
      },
      "execution_count": null,
      "outputs": []
    },
    {
      "cell_type": "markdown",
      "source": [
        "## Renomeando as colunas do DataFrame"
      ],
      "metadata": {
        "id": "akkVacPJoEVA"
      }
    },
    {
      "cell_type": "code",
      "metadata": {
        "id": "8af9994f"
      },
      "source": [
        "# Recarregar o DataFrame para garantir que não seja None\n",
        "df = pd.read_csv(\"https://raw.githubusercontent.com/guilhermeonrails/data-jobs/refs/heads/main/salaries.csv\")\n",
        "\n",
        "# Alterar os nomes das colunas para português brasileiro\n",
        "mapeamento_colunas = {\n",
        "    'work_year': 'ano',\n",
        "    'experience_level': 'senioridade',\n",
        "    'employment_type': 'contrato',\n",
        "    'job_title': 'cargo',\n",
        "    'salary': 'salario',\n",
        "    'salary_currency': 'moeda',\n",
        "    'salary_in_usd': 'usd',\n",
        "    'employee_residence': 'residencia',\n",
        "    'remote_ratio': 'remoto',\n",
        "    'company_location': 'empresa',\n",
        "    'company_size': 'tamanho_empresa'\n",
        "}\n",
        "\n",
        "# Renomear as colunas do DataFrame\n",
        "df = df.rename(columns=mapeamento_colunas)\n",
        "\n",
        "# Exibir os novos nomes das colunas para verificar\n",
        "print(df.columns)"
      ],
      "execution_count": null,
      "outputs": []
    },
    {
      "cell_type": "markdown",
      "source": [
        "## Analisando quais sãos as categorias das colunas categóricas\n"
      ],
      "metadata": {
        "id": "ijvmGkQ2DbSt"
      }
    },
    {
      "cell_type": "markdown",
      "source": [
        "### Nível de senioridade\n"
      ],
      "metadata": {
        "id": "2KYY4swDoQ6T"
      }
    },
    {
      "cell_type": "code",
      "source": [
        "# .value_counts() calcula a frequencia de cada valor único aparece em uma coluna\n",
        "df['senioridade'].value_counts()"
      ],
      "metadata": {
        "collapsed": true,
        "id": "GmeQ7PdPDaN9"
      },
      "execution_count": null,
      "outputs": []
    },
    {
      "cell_type": "markdown",
      "source": [
        "### Tipo de contrato"
      ],
      "metadata": {
        "id": "H-XjgSHCoNG7"
      }
    },
    {
      "cell_type": "code",
      "source": [
        "df['contrato'].value_counts()"
      ],
      "metadata": {
        "id": "pw2322-WEjhQ"
      },
      "execution_count": null,
      "outputs": []
    },
    {
      "cell_type": "markdown",
      "source": [
        "### Regime de trabalho\n"
      ],
      "metadata": {
        "id": "lV_G4k8eonsQ"
      }
    },
    {
      "cell_type": "code",
      "source": [
        "df['remoto'].value_counts()"
      ],
      "metadata": {
        "id": "blpe7NTEE8oB"
      },
      "execution_count": null,
      "outputs": []
    },
    {
      "cell_type": "markdown",
      "source": [
        "### Tamanho da empresa"
      ],
      "metadata": {
        "id": "vAO65iDeotfC"
      }
    },
    {
      "cell_type": "code",
      "source": [
        "df['tamanho_empresa'].value_counts()"
      ],
      "metadata": {
        "id": "HmX7RrekIF49"
      },
      "execution_count": null,
      "outputs": []
    },
    {
      "cell_type": "markdown",
      "source": [
        "## Modificando o nome das categorias:"
      ],
      "metadata": {
        "id": "j0Em6LOIo2Zc"
      }
    },
    {
      "cell_type": "code",
      "source": [
        "# Tradução das categorias de senioridade para português brasileiro\n",
        "mapeamento_senioridade = {\n",
        "    'EN': 'Junior',\n",
        "    'MI': 'Pleno',\n",
        "    'SE': 'Senior',\n",
        "    'EX': 'Executivo'\n",
        "}\n",
        "\n",
        "# Substituir os valores na coluna 'senioridade'\n",
        "df['senioridade'] = df['senioridade'].replace(mapeamento_senioridade)\n",
        "\n",
        "# Exibir a contagem de valores para verificar a tradução\n",
        "df['senioridade'].value_counts()"
      ],
      "metadata": {
        "id": "-0U505xrJ9ya"
      },
      "execution_count": null,
      "outputs": []
    },
    {
      "cell_type": "code",
      "source": [
        "# Tradução das categorias de contrato para português brasileiro\n",
        "mapeamento_contrato = {\n",
        "    'FT': 'Tempo Integral',\n",
        "    'PT': 'Meio Período',\n",
        "    'FL': 'Freelance',\n",
        "    'CT': 'Contrato'\n",
        "}\n",
        "\n",
        "# Substituir os valores na coluna 'contrato'\n",
        "df['contrato'] = df['contrato'].replace(mapeamento_contrato)\n",
        "\n",
        "# Exibir a contagem de valores para verificar a tradução\n",
        "df['contrato'].value_counts()"
      ],
      "metadata": {
        "id": "dexq6bqeK99L"
      },
      "execution_count": null,
      "outputs": []
    },
    {
      "cell_type": "code",
      "source": [
        "# Tradução das categorias de remoto para português brasileiro\n",
        "mapeamento_remoto = {\n",
        "    0: 'Presencial',\n",
        "    50: 'Híbrido',\n",
        "    100: 'Remoto'\n",
        "}\n",
        "\n",
        "# Substituir os valores na coluna 'remoto'\n",
        "df['remoto'] = df['remoto'].replace(mapeamento_remoto)\n",
        "\n",
        "# Exibir a contagem de valores para verificar a tradução\n",
        "df['remoto'].value_counts()"
      ],
      "metadata": {
        "id": "a7b-Rt3WL_BR"
      },
      "execution_count": null,
      "outputs": []
    },
    {
      "cell_type": "code",
      "source": [
        "# Tradução das categorias de tamanho_empresa para português brasileiro\n",
        "mapeamento_tamanho_empresa = {\n",
        "    'S': 'Pequena',\n",
        "    'M': 'Média',\n",
        "    'L': 'Grande'\n",
        "}\n",
        "\n",
        "# Substituir os valores na coluna 'tamanho_empresa'\n",
        "df['tamanho_empresa'] = df['tamanho_empresa'].replace(mapeamento_tamanho_empresa)\n",
        "\n",
        "# Exibir a contagem de valores para verificar a tradução\n",
        "df['tamanho_empresa'].value_counts()"
      ],
      "metadata": {
        "id": "adsyaRTuMQXZ"
      },
      "execution_count": null,
      "outputs": []
    },
    {
      "cell_type": "markdown",
      "source": [
        "## Filtrando qual conjunto de dados deve ser informado"
      ],
      "metadata": {
        "id": "5gW2IxlipByq"
      }
    },
    {
      "cell_type": "code",
      "source": [
        "# Filtrar o DataFrame para mostrar apenas as linhas onde 'residencia' é 'US'\n",
        "df_US = df[df['residencia'] == 'US']\n",
        "\n",
        "# Exibir as primeiras linhas do DataFrame filtrado\n",
        "df_US.head()\n",
        "\n"
      ],
      "metadata": {
        "id": "ZDzSg93qM3Vb"
      },
      "execution_count": null,
      "outputs": []
    },
    {
      "cell_type": "code",
      "source": [
        "df.describe(include = 'object')"
      ],
      "metadata": {
        "id": "JT78bmxCM-DK"
      },
      "execution_count": null,
      "outputs": []
    },
    {
      "cell_type": "markdown",
      "source": [
        "## Exercício\n"
      ],
      "metadata": {
        "id": "pWqV731nOcIR"
      }
    },
    {
      "cell_type": "code",
      "source": [
        "# 1. Carregue a mesma base de dados de salários que foi utilizada na aula.\n",
        "df = pd.read_csv(\"https://raw.githubusercontent.com/guilhermeonrails/data-jobs/refs/heads/main/salaries.csv\")"
      ],
      "metadata": {
        "id": "Lne6oNMXOgv8"
      },
      "execution_count": null,
      "outputs": []
    },
    {
      "cell_type": "code",
      "source": [
        "# 2. Renomeie as colunas para que fiquem em português, mas faça isso de forma diferente da aula. Por exemplo, você pode usar nomes mais curtos ou mais descritivos.\n",
        "\n",
        "# Renomeando\n",
        "renomeando_colunas = {\n",
        "    'work_year': 'ano',\n",
        "    'experience_level': 'Nivel_XP',\n",
        "    'employment_type': 'contrato',\n",
        "    'job_title': 'cargo',\n",
        "    'salary': 'salario',\n",
        "    'salary_currency': 'moeda',\n",
        "    'salary_in_usd': 'dolar',\n",
        "    'employee_residence': 'residencia',\n",
        "    'remote_ratio': 'remoto',\n",
        "    'company_location': 'ender_empresa',\n",
        "    'company_size': 'taman_empresa'\n",
        "}\n",
        "\n",
        "df = df.rename(columns= renomeando_colunas)\n",
        "\n",
        "df.columns\n"
      ],
      "metadata": {
        "id": "l2LO3VuoOsTM"
      },
      "execution_count": null,
      "outputs": []
    },
    {
      "cell_type": "code",
      "source": [
        "# 3. Utilize o método describe() para obter estatísticas descritivas das colunas numéricas e categóricas.\n",
        "df.describe()"
      ],
      "metadata": {
        "id": "IHJg5EjKP_ss"
      },
      "execution_count": null,
      "outputs": []
    },
    {
      "cell_type": "code",
      "source": [
        "# 4. Crie um gráfico simples utilizando a biblioteca Matplotlib ou Seaborn para visualizar a distribuição dos salários.\n",
        "\n",
        "# Instalando a biblioteca\n",
        "!pip install matplotlib"
      ],
      "metadata": {
        "id": "0JpBrf9fQYG_"
      },
      "execution_count": null,
      "outputs": []
    },
    {
      "cell_type": "code",
      "source": [
        "# Importando a biblioteca\n",
        "import matplotlib.pyplot as plt"
      ],
      "metadata": {
        "id": "yvU0RRLzQjiE"
      },
      "execution_count": null,
      "outputs": []
    },
    {
      "cell_type": "code",
      "source": [
        "# Preparando os dados\n",
        "nivel_xp_counts = df['Nivel_XP'].value_counts()\n",
        "\n",
        "print(nivel_xp_counts)"
      ],
      "metadata": {
        "id": "NBp6IcwbQx50"
      },
      "execution_count": null,
      "outputs": []
    },
    {
      "cell_type": "code",
      "source": [
        "# Criando o gráfico\n",
        "plt.figure(figsize=(10, 6))  # Tamanho da figura\n",
        "plt.bar(nivel_xp_counts.index, nivel_xp_counts.values)  # Gráfico de barras\n",
        "plt.xlabel('Nível de Experiência')  # Rótulo do eixo x\n",
        "plt.ylabel('Quantidade')  # Rótulo do eixo y\n",
        "plt.title('Distribuição de Salários por Nível de Senioridade')  # Título do gráfico\n",
        "plt.show()  # Exibe o gráfico"
      ],
      "metadata": {
        "colab": {
          "base_uri": "https://localhost:8080/",
          "height": 565
        },
        "id": "whi_jI2LRG7H",
        "outputId": "6c598500-4d33-4c53-a226-068d4cc85f2e"
      },
      "execution_count": null,
      "outputs": [
        {
          "output_type": "display_data",
          "data": {
            "text/plain": [
              "<Figure size 1000x600 with 1 Axes>"
            ],
            "image/png": "[encoded data removed]"
          },
          "metadata": {}
        }
      ]
    },
    {
      "cell_type": "markdown",
      "source": [
        "5. Analise a coluna de \"senioridade\" e verifique qual é o nível de experiência mais comum e quantas pessoas estão em cada nível.\n",
        "\n",
        "---\n",
        "\n",
        "\n",
        "Resposta:\n",
        "Senior é o mais comum;\n",
        "\n",
        "Senior: Entre 77000 a 78000\n",
        "\n",
        "Middle: Entre 40000 a 41000\n",
        "\n",
        "Entry: Entre 12000 a 15000\n",
        "\n",
        "Executive: Entre 200 a 300"
      ],
      "metadata": {
        "id": "nFdKA8owSnS4"
      }
    },
    {
      "cell_type": "markdown",
      "source": [
        "---\n",
        "# Aula 2 - Limpeza de Dados e tratamento de Dados"
      ],
      "metadata": {
        "id": "wonhfFGE7OnN"
      }
    },
    {
      "cell_type": "code",
      "source": [
        "df.isnull()"
      ],
      "metadata": {
        "id": "M334FD2y7lHQ"
      },
      "execution_count": null,
      "outputs": []
    },
    {
      "cell_type": "code",
      "source": [
        "# Soma do total de categorias nulas\n",
        "df.isnull().sum()"
      ],
      "metadata": {
        "id": "uedL2unG8MJy"
      },
      "execution_count": null,
      "outputs": []
    },
    {
      "cell_type": "code",
      "source": [
        "df['ano'].unique()\n",
        "# nan é a representação de um valor nulo no Python"
      ],
      "metadata": {
        "id": "3hYMt3so8ieL"
      },
      "execution_count": null,
      "outputs": []
    },
    {
      "cell_type": "code",
      "source": [
        "# Filtragem para retorno de colunas com valor nulo\n",
        "df[df.isnull().any(axis=1)]"
      ],
      "metadata": {
        "id": "LjJr-Wiz821d"
      },
      "execution_count": null,
      "outputs": []
    },
    {
      "cell_type": "markdown",
      "source": [
        "---\n",
        "Existem algumas maneiras para o tratamento de dados nulos, as formas que serão abordadas nessa aula são:\n",
        "\n",
        "\n",
        "1.   Inserir informações nos dados nulos\n",
        "2.   Deleção de dados nulos\n",
        "3.   Imputar os dados nulos\n",
        " - Imputar os dados significa substituir valores ausentes ou faltantes em um conjunto de dados por valores estimados\n",
        "\n",
        "---\n",
        "**Serão tratados com outros exemplos fictícios**\n",
        "\n",
        "---"
      ],
      "metadata": {
        "id": "LjTGhR8k-Pp2"
      }
    },
    {
      "cell_type": "code",
      "source": [
        "import numpy as np # Bilbioteca que permite a manipulação numéria, permite add um null\n",
        "\n",
        "# Criação de um novo DataFrame\n",
        "df_salarios = pd.DataFrame({\n",
        "    'nome': ['João', 'Maria', 'Pedro', 'Ana', 'Carlos'],\n",
        "    'salario': [1200, np.nan, 980, np.nan, 5000]\n",
        "})\n",
        "\n",
        "# Substitui o valor nan(null) com a média dos sálarios\n",
        "df_salarios['salario_media'] = df_salarios['salario'].fillna(df_salarios['salario'].mean().round(2))\n",
        "\n",
        "# Substitui o valor nan(null) com a mediana dos sálarios\n",
        "df_salarios['salario_mediana'] = df_salarios['salario'].fillna(df_salarios['salario'].median())\n",
        "\n",
        "# round(2) arredonda o valor com 2 casas decimais\n",
        "\n",
        "df_salarios"
      ],
      "metadata": {
        "id": "MdC55KZ9_3qt"
      },
      "execution_count": null,
      "outputs": []
    },
    {
      "cell_type": "code",
      "source": [
        "# Criação de um novo Dataframe\n",
        "df_temperaturas = pd.DataFrame({\n",
        "#    'cidade': ['São Paulo', 'Rio de Janeiro', 'Belo Horizonte', 'Porto Alegre'],\n",
        "    'temperatura': [25, 28, np.nan, 22],\n",
        "    'dia': ['Segunda', 'Terça', 'Quarta', 'Quinta']\n",
        "})\n",
        "\n",
        "# Subistitui o valor nan pelo dado anterior com o método ffill\n",
        "df_temperaturas[\"preenchido_ffill\"] = df_temperaturas['temperatura'].ffill()\n",
        "\n",
        "df_temperaturas"
      ],
      "metadata": {
        "id": "ap2MpNRqFxDG"
      },
      "execution_count": null,
      "outputs": []
    },
    {
      "cell_type": "code",
      "source": [
        "# Criação de um novo Dataframe\n",
        "df_temperaturas = pd.DataFrame({\n",
        "    'temperatura': [25, 28, np.nan, 22],\n",
        "    'dia': ['Segunda', 'Terça', 'Quarta', 'Quinta']\n",
        "})\n",
        "\n",
        "# Subistitui o valor nan pelo dado posterior com o método bfill\n",
        "df_temperaturas[\"preenchido_ffill\"] = df_temperaturas['temperatura'].bfill()\n",
        "\n",
        "df_temperaturas"
      ],
      "metadata": {
        "id": "ASJObTtzHJyQ"
      },
      "execution_count": null,
      "outputs": []
    },
    {
      "cell_type": "code",
      "source": [
        "# Criação de um novo Dataframe\n",
        "df_cidades = pd.DataFrame({\n",
        "    'nome': ['João', 'Maria', 'Pedro', 'Ana', 'Carlos'],\n",
        "    'cidade': ['São Paulo', 'Rio de Janeiro', 'Belo Horizonte', 'Porto Alegre', np.nan]\n",
        "})\n",
        "\n",
        "'''\n",
        "Criação de um valor default para substiuir o valor nan\n",
        "'''\n",
        "df_cidades['cidade_preenchida'] = df_cidades['cidade'].fillna('Não Informado')\n",
        "\n",
        "df_cidades"
      ],
      "metadata": {
        "id": "AkEehALAHmC8"
      },
      "execution_count": null,
      "outputs": []
    },
    {
      "cell_type": "markdown",
      "source": [
        "## Retornando ao arquivo original"
      ],
      "metadata": {
        "id": "ouqK8MAdKDuh"
      }
    },
    {
      "cell_type": "code",
      "source": [
        "# Filtragem para retorno de colunas com valor nulo\n",
        "df[df.isnull().any(axis=1)]"
      ],
      "metadata": {
        "id": "gjLfpWhYKKkP"
      },
      "execution_count": null,
      "outputs": []
    },
    {
      "cell_type": "code",
      "source": [
        "'''\n",
        "Criando uma nova variável para tratar a base de dados e\n",
        "Excluindo os valores Null\n",
        "'''\n",
        "df_limpo = df.dropna()"
      ],
      "metadata": {
        "id": "ubVjeMVQKQww"
      },
      "execution_count": null,
      "outputs": []
    },
    {
      "cell_type": "code",
      "source": [
        "df_limpo.isnull().sum()"
      ],
      "metadata": {
        "id": "6XNsDkMCKslC"
      },
      "execution_count": null,
      "outputs": []
    },
    {
      "cell_type": "code",
      "source": [
        "df_limpo.head()"
      ],
      "metadata": {
        "id": "ojz0qZbAK3I6"
      },
      "execution_count": null,
      "outputs": []
    },
    {
      "cell_type": "code",
      "source": [
        "df_limpo.info()"
      ],
      "metadata": {
        "id": "MZ3ochUuLFX7"
      },
      "execution_count": null,
      "outputs": []
    },
    {
      "cell_type": "markdown",
      "source": [
        "---\n",
        "Convertendo o tipo de variável da coluna 'ano'\n",
        "\n",
        "\n",
        "---"
      ],
      "metadata": {
        "id": "LkebcVsZLjXE"
      }
    },
    {
      "cell_type": "code",
      "source": [
        "df_limpo = df_limpo.assign(ano=df_limpo['ano'].astype('int64'))"
      ],
      "metadata": {
        "id": "tNsZg-s7Lyy_"
      },
      "execution_count": null,
      "outputs": []
    },
    {
      "cell_type": "code",
      "source": [
        "df_limpo.info()"
      ],
      "metadata": {
        "id": "VXNsyQnrMHgY"
      },
      "execution_count": null,
      "outputs": []
    },
    {
      "cell_type": "code",
      "source": [
        "df_limpo.head()"
      ],
      "metadata": {
        "id": "dSi7wflKMJ9i"
      },
      "execution_count": null,
      "outputs": []
    },
    {
      "cell_type": "code",
      "source": [
        "'''\n",
        "Criando uma nova variável para tratar a base de dados e\n",
        "Excluindo os valores Null\n",
        "'''\n",
        "df_limpo = df.dropna()"
      ],
      "metadata": {
        "id": "CgG6zCdAraKD"
      },
      "execution_count": null,
      "outputs": []
    },
    {
      "cell_type": "code",
      "source": [
        "df_limpo.isnull().sum()"
      ],
      "metadata": {
        "id": "F75LJTpNraKF"
      },
      "execution_count": null,
      "outputs": []
    },
    {
      "cell_type": "code",
      "source": [
        "df_limpo.head()"
      ],
      "metadata": {
        "id": "kvIyC6eqraKG"
      },
      "execution_count": null,
      "outputs": []
    },
    {
      "cell_type": "code",
      "source": [
        "df_limpo.info()"
      ],
      "metadata": {
        "id": "Jj4clBVfraKG"
      },
      "execution_count": null,
      "outputs": []
    },
    {
      "cell_type": "markdown",
      "source": [
        "---\n",
        "Convertendo o tipo de variável da coluna 'ano'\n",
        "\n",
        "\n",
        "---"
      ],
      "metadata": {
        "id": "eZveIgYyraKH"
      }
    },
    {
      "cell_type": "code",
      "source": [
        "df_limpo = df_limpo.assign(ano=df_limpo['ano'].astype('int64'))"
      ],
      "metadata": {
        "id": "UQyQkWUyraKH"
      },
      "execution_count": null,
      "outputs": []
    },
    {
      "cell_type": "code",
      "source": [
        "df_limpo.info()"
      ],
      "metadata": {
        "id": "Bl151VRsraKI"
      },
      "execution_count": null,
      "outputs": []
    },
    {
      "cell_type": "code",
      "source": [
        "df_limpo.head()"
      ],
      "metadata": {
        "id": "Oh5pDh_9raKI"
      },
      "execution_count": null,
      "outputs": []
    },
    {
      "cell_type": "markdown",
      "source": [
        "---\n",
        "# Aula 3 - Visualização de Dados"
      ],
      "metadata": {
        "id": "bHRvT7lVngTW"
      }
    },
    {
      "cell_type": "markdown",
      "source": [
        "Aprendendo a criar gráficos estatísticos para explorar e comunicar informações presentes nos dados. Histogramas, boxplots, barras, etc.\n",
        "\n",
        "---"
      ],
      "metadata": {
        "id": "k9LLfFA4piE9"
      }
    },
    {
      "cell_type": "markdown",
      "source": [
        "## Configurando base"
      ],
      "metadata": {
        "id": "Jj920gBXrw5l"
      }
    },
    {
      "cell_type": "markdown",
      "source": [
        "Importando Bibliotecas"
      ],
      "metadata": {
        "id": "VjtJ_toexMWb"
      }
    },
    {
      "cell_type": "code",
      "source": [
        "import pandas as pd"
      ],
      "metadata": {
        "id": "0zGGyS78rjVr"
      },
      "execution_count": null,
      "outputs": []
    },
    {
      "cell_type": "code",
      "source": [
        "# Importação da base de Dados\n",
        "df = pd.read_csv(\"https://raw.githubusercontent.com/guilhermeonrails/data-jobs/refs/heads/main/salaries.csv\")\n",
        "# df = DataFrame"
      ],
      "metadata": {
        "id": "1rb48n75rjVs"
      },
      "execution_count": null,
      "outputs": []
    },
    {
      "cell_type": "markdown",
      "source": [
        "Renomeando"
      ],
      "metadata": {
        "id": "Mbc3iUcPsQCU"
      }
    },
    {
      "cell_type": "code",
      "metadata": {
        "id": "TxILAjtFrvMK"
      },
      "source": [
        "# Recarregar o DataFrame para garantir que não seja None\n",
        "df = pd.read_csv(\"https://raw.githubusercontent.com/guilhermeonrails/data-jobs/refs/heads/main/salaries.csv\")\n",
        "\n",
        "# Alterar os nomes das colunas para português brasileiro\n",
        "mapeamento_colunas = {\n",
        "    'work_year': 'ano',\n",
        "    'experience_level': 'senioridade',\n",
        "    'employment_type': 'contrato',\n",
        "    'job_title': 'cargo',\n",
        "    'salary': 'salario',\n",
        "    'salary_currency': 'moeda',\n",
        "    'salary_in_usd': 'usd',\n",
        "    'employee_residence': 'residencia',\n",
        "    'remote_ratio': 'remoto',\n",
        "    'company_location': 'empresa',\n",
        "    'company_size': 'tamanho_empresa'\n",
        "}\n",
        "\n",
        "# Renomear as colunas do DataFrame\n",
        "df = df.rename(columns=mapeamento_colunas)\n",
        "\n",
        "# Exibir os novos nomes das colunas para verificar\n",
        "print(df.columns)"
      ],
      "execution_count": null,
      "outputs": []
    },
    {
      "cell_type": "markdown",
      "source": [
        "Modificando o nome das categorias:"
      ],
      "metadata": {
        "id": "umwnVXDIsLW7"
      }
    },
    {
      "cell_type": "code",
      "source": [
        "# Tradução das categorias de senioridade para português brasileiro\n",
        "mapeamento_senioridade = {\n",
        "    'EN': 'Junior',\n",
        "    'MI': 'Pleno',\n",
        "    'SE': 'Senior',\n",
        "    'EX': 'Executivo'\n",
        "}\n",
        "\n",
        "# Substituir os valores na coluna 'senioridade'\n",
        "df['senioridade'] = df['senioridade'].replace(mapeamento_senioridade)\n",
        "\n",
        "# Exibir a contagem de valores para verificar a tradução\n",
        "df['senioridade'].value_counts()"
      ],
      "metadata": {
        "id": "aaUcgXHZsLW8"
      },
      "execution_count": null,
      "outputs": []
    },
    {
      "cell_type": "code",
      "source": [
        "# Tradução das categorias de contrato para português brasileiro\n",
        "mapeamento_contrato = {\n",
        "    'FT': 'Tempo Integral',\n",
        "    'PT': 'Meio Período',\n",
        "    'FL': 'Freelance',\n",
        "    'CT': 'Contrato'\n",
        "}\n",
        "\n",
        "# Substituir os valores na coluna 'contrato'\n",
        "df['contrato'] = df['contrato'].replace(mapeamento_contrato)\n",
        "\n",
        "# Exibir a contagem de valores para verificar a tradução\n",
        "df['contrato'].value_counts()"
      ],
      "metadata": {
        "id": "YOZVzUhfsLW8"
      },
      "execution_count": null,
      "outputs": []
    },
    {
      "cell_type": "code",
      "source": [
        "# Tradução das categorias de remoto para português brasileiro\n",
        "mapeamento_remoto = {\n",
        "    0: 'Presencial',\n",
        "    50: 'Híbrido',\n",
        "    100: 'Remoto'\n",
        "}\n",
        "\n",
        "# Substituir os valores na coluna 'remoto'\n",
        "df['remoto'] = df['remoto'].replace(mapeamento_remoto)\n",
        "\n",
        "# Exibir a contagem de valores para verificar a tradução\n",
        "df['remoto'].value_counts()"
      ],
      "metadata": {
        "id": "36hFvff3sLW9"
      },
      "execution_count": null,
      "outputs": []
    },
    {
      "cell_type": "code",
      "source": [
        "# Tradução das categorias de tamanho_empresa para português brasileiro\n",
        "mapeamento_tamanho_empresa = {\n",
        "    'S': 'Pequena',\n",
        "    'M': 'Média',\n",
        "    'L': 'Grande'\n",
        "}\n",
        "\n",
        "# Substituir os valores na coluna 'tamanho_empresa'\n",
        "df['tamanho_empresa'] = df['tamanho_empresa'].replace(mapeamento_tamanho_empresa)\n",
        "\n",
        "# Exibir a contagem de valores para verificar a tradução\n",
        "df['tamanho_empresa'].value_counts()"
      ],
      "metadata": {
        "id": "BTZrwmO4sLW9"
      },
      "execution_count": null,
      "outputs": []
    },
    {
      "cell_type": "markdown",
      "source": [
        "Criando nova variável para sanitização."
      ],
      "metadata": {
        "id": "rfVFFjP6shp5"
      }
    },
    {
      "cell_type": "code",
      "source": [
        "'''\n",
        "Criando uma nova variável para tratar a base de dados e\n",
        "Excluindo os valores Null\n",
        "'''\n",
        "df_limpo = df.dropna()"
      ],
      "metadata": {
        "id": "eQm1JbMArc-U"
      },
      "execution_count": null,
      "outputs": []
    },
    {
      "cell_type": "markdown",
      "source": [
        "---\n",
        "Convertendo o tipo de variável da coluna 'ano'\n",
        "\n",
        "\n",
        "---"
      ],
      "metadata": {
        "id": "e1j7H6QMrc-W"
      }
    },
    {
      "cell_type": "code",
      "source": [
        "df_limpo = df_limpo.assign(ano=df_limpo['ano'].astype('int64'))"
      ],
      "metadata": {
        "id": "fyHtMXuNrc-X"
      },
      "execution_count": null,
      "outputs": []
    },
    {
      "cell_type": "markdown",
      "source": [
        "---\n",
        "## Iniciando Aula"
      ],
      "metadata": {
        "id": "wK1AT6X7s1DQ"
      }
    },
    {
      "cell_type": "code",
      "source": [
        "df_limpo.head()"
      ],
      "metadata": {
        "id": "kdO2Uw-2rc-Y"
      },
      "execution_count": null,
      "outputs": []
    },
    {
      "cell_type": "markdown",
      "source": [
        "Plotando um gráfico\n"
      ],
      "metadata": {
        "id": "0Wv52_Nf0aWd"
      }
    },
    {
      "cell_type": "code",
      "source": [
        "# Plotando um gráfico\n",
        "df_limpo['senioridade'].value_counts().plot(kind='bar', title = \"Distribuição de Senioridade\")"
      ],
      "metadata": {
        "id": "BLsi4-mzs2bn"
      },
      "execution_count": null,
      "outputs": []
    },
    {
      "cell_type": "markdown",
      "source": [
        "Plotando um gráfico de Barras de salário médio anual em usd por nível de senioridade."
      ],
      "metadata": {
        "id": "8KtT66UsVJIH"
      }
    },
    {
      "cell_type": "code",
      "source": [
        "# Importando a biblioteca seaborn\n",
        "import seaborn as sns"
      ],
      "metadata": {
        "id": "vaymx7TvvNUI"
      },
      "execution_count": null,
      "outputs": []
    },
    {
      "cell_type": "code",
      "source": [
        "sns.barplot(data=df_limpo, x='senioridade', y = 'usd')"
      ],
      "metadata": {
        "id": "fHkpMDB8vYwR"
      },
      "execution_count": null,
      "outputs": []
    },
    {
      "cell_type": "code",
      "source": [
        "# Importando a biblioteca matplotlib\n",
        "import matplotlib.pyplot as plt"
      ],
      "metadata": {
        "id": "g8ZdAcRywvdt"
      },
      "execution_count": null,
      "outputs": []
    },
    {
      "cell_type": "code",
      "source": [
        "plt.figure(figsize=(8,5))\n",
        "sns.barplot(data=df_limpo, x='senioridade', y = 'usd')\n",
        "plt.title(\"Salário médio por nível de senioridade\")\n",
        "plt.xlabel(\"Nível de senioridade\")\n",
        "plt.ylabel(\"Salário médio anual (USD)\")\n",
        "plt.show()"
      ],
      "metadata": {
        "id": "Z53HJag4w9tU",
        "colab": {
          "base_uri": "https://localhost:8080/",
          "height": 488
        },
        "outputId": "322577c5-1710-45bd-851b-f631dd08c028"
      },
      "execution_count": 13,
      "outputs": [
        {
          "output_type": "display_data",
          "data": {
            "text/plain": [
              "<Figure size 800x500 with 1 Axes>"
            ],
            "image/png": "[encoded data removed]"
          },
          "metadata": {}
        }
      ]
    },
    {
      "cell_type": "markdown",
      "source": [
        "Ordenando o gráfico"
      ],
      "metadata": {
        "id": "L7vYNqBz0g41"
      }
    },
    {
      "cell_type": "code",
      "source": [
        "'''\n",
        "Separando o df_limpo por ordem de tamanho e salvando em uma variável\n",
        "'''\n",
        "\n",
        "ordem = df_limpo.groupby('senioridade')['usd'].mean().round(2).sort_values(ascending=True).index\n",
        "\n",
        "'''\n",
        "True é para ordenar do menor para o maior\n",
        "False é para ordenar do maior para o menor\n",
        "'''"
      ],
      "metadata": {
        "id": "OyOUXJriygot"
      },
      "execution_count": null,
      "outputs": []
    },
    {
      "cell_type": "code",
      "source": [
        "ordem"
      ],
      "metadata": {
        "id": "9ahIJ59YzlPJ"
      },
      "execution_count": null,
      "outputs": []
    },
    {
      "cell_type": "code",
      "source": [
        "plt.figure(figsize=(8,5))\n",
        "sns.barplot(data=df_limpo, x='senioridade', y = 'usd', order = ordem) # O comando order ordena seguindo a ordem definida na variável\n",
        "plt.title(\"Salário médio por nível de senioridade\")\n",
        "plt.xlabel(\"Nível de senioridade\")\n",
        "plt.ylabel(\"Salário médio anual (USD)\")\n",
        "plt.show()"
      ],
      "metadata": {
        "id": "kP1Pp9nAz9P0"
      },
      "execution_count": null,
      "outputs": []
    },
    {
      "cell_type": "markdown",
      "source": [
        "Criando um Histograma"
      ],
      "metadata": {
        "id": "rMM_d5yg0wMh"
      }
    },
    {
      "cell_type": "code",
      "source": [
        "plt.figure(figsize=(8,4))\n",
        "sns.histplot(df_limpo['usd'], bins = 30, kde=True) # kde é para mostrar a curva\n",
        "plt.title(\"Distribuição salarial anuais\")\n",
        "plt.xlabel(\"Salário anual (USD)\")\n",
        "plt.ylabel(\"Frequência\")\n",
        "plt.show()\n",
        "#"
      ],
      "metadata": {
        "colab": {
          "base_uri": "https://localhost:8080/",
          "height": 410
        },
        "id": "AqwXReiA0q2S",
        "outputId": "50414855-1de4-4a45-8aff-70d8a37a64a9"
      },
      "execution_count": null,
      "outputs": [
        {
          "output_type": "display_data",
          "data": {
            "text/plain": [
              "<Figure size 800x400 with 1 Axes>"
            ],
            "image/png": "[encoded data removed]"
          },
          "metadata": {}
        }
      ]
    },
    {
      "cell_type": "markdown",
      "source": [
        "Criando um gráfico de Bloxpot"
      ],
      "metadata": {
        "id": "oHX9Sqy4AzfL"
      }
    },
    {
      "cell_type": "code",
      "source": [
        "plt.figure(8)\n",
        "sns.boxplot(x=df_limpo['usd'])\n",
        "plt.title(\"Bloxpot Salário\")\n",
        "plt.xlabel(\"Salário anual (USD)\")\n",
        "plt.show()"
      ],
      "metadata": {
        "colab": {
          "base_uri": "https://localhost:8080/",
          "height": 472
        },
        "id": "sbk0tmj77wNt",
        "outputId": "97c45cb3-7f05-427f-c552-484388aa0210"
      },
      "execution_count": null,
      "outputs": [
        {
          "output_type": "display_data",
          "data": {
            "text/plain": [
              "<Figure size 640x480 with 1 Axes>"
            ],
            "image/png": "[encoded data removed]"
          },
          "metadata": {}
        }
      ]
    },
    {
      "cell_type": "code",
      "source": [
        "ordem_senioridade = ['Junior', 'Pleno', 'Senior', 'Executivo']\n",
        "plt.figure(8)\n",
        "sns.boxplot(x='senioridade', y = 'usd',  data=df_limpo, order = ordem_senioridade)\n",
        "plt.title(\"Bloxpot da Distribuição por senioridade\")\n",
        "plt.xlabel(\"Salário anual (USD)\")\n",
        "plt.ylabel(\"Salário médio anual (USD)\")\n",
        "plt.show()"
      ],
      "metadata": {
        "colab": {
          "base_uri": "https://localhost:8080/",
          "height": 472
        },
        "id": "wDnuq8nX87rT",
        "outputId": "28ff8a10-b0c0-40ef-f6a2-f9277d8324df"
      },
      "execution_count": null,
      "outputs": [
        {
          "output_type": "display_data",
          "data": {
            "text/plain": [
              "<Figure size 640x480 with 1 Axes>"
            ],
            "image/png": "[encoded data removed]"
          },
          "metadata": {}
        }
      ]
    },
    {
      "cell_type": "code",
      "source": [
        "ordem_senioridade = ['Junior', 'Pleno', 'Senior', 'Executivo']\n",
        "\n",
        "plt.figure(8)\n",
        "sns.boxplot(x='senioridade', y = 'usd',  data=df_limpo, order = ordem_senioridade, palette = 'pastel', hue = 'senioridade')\n",
        "plt.title(\"Bloxpot da Distribuição por senioridade\")\n",
        "plt.xlabel(\"Salário anual (USD)\")\n",
        "plt.ylabel(\"Salário médio anual (USD)\")\n",
        "plt.show()"
      ],
      "metadata": {
        "colab": {
          "base_uri": "https://localhost:8080/",
          "height": 472
        },
        "id": "X3CXKDUq-PsK",
        "outputId": "846c588c-6696-4d17-b9e5-53fb4899469f"
      },
      "execution_count": null,
      "outputs": [
        {
          "output_type": "display_data",
          "data": {
            "text/plain": [
              "<Figure size 640x480 with 1 Axes>"
            ],
            "image/png": "[encoded data removed]"
          },
          "metadata": {}
        }
      ]
    },
    {
      "cell_type": "markdown",
      "source": [
        "Criando um gráfico interativo"
      ],
      "metadata": {
        "id": "fCKtzSCiA4x7"
      }
    },
    {
      "cell_type": "code",
      "source": [
        "# Importando a biblioteca plotly\n",
        "import plotly.express as px"
      ],
      "metadata": {
        "id": "1Ozt-wga-_qW"
      },
      "execution_count": null,
      "outputs": []
    },
    {
      "cell_type": "code",
      "source": [
        "data_media = df_limpo.groupby('senioridade')['usd'].mean().round(2).sort_values(ascending=False).reset_index()\n",
        "\n",
        "fig = px.bar(data_media,\n",
        "x='senioridade',\n",
        "y='usd',\n",
        "title='Média Salarial por Nível de Senioridade',\n",
        "labels= {'senioridade': \"Nível de senioridade\", \"usd\": 'Média Salarial Anual (USD)'})\n",
        "fig.show()"
      ],
      "metadata": {
        "id": "I9B0zKK7_TEv"
      },
      "execution_count": null,
      "outputs": []
    },
    {
      "cell_type": "markdown",
      "source": [
        "Criando um gráfico de Pizza"
      ],
      "metadata": {
        "id": "-xuAu0dMA8E8"
      }
    },
    {
      "cell_type": "code",
      "source": [
        "remoto_contagem = df_limpo['remoto'].value_counts().reset_index()\n",
        "remoto_contagem.columns = ['tipo_trabalho', 'quantidade']\n",
        "\n",
        "\n",
        "fig = px.pie(remoto_contagem,\n",
        "             names = 'tipo_trabalho',\n",
        "             values = 'quantidade',\n",
        "             title='Proporção dos Tipos de Trabalhos'\n",
        "             )\n",
        "fig.show()"
      ],
      "metadata": {
        "id": "ZdkAZvZQBFiZ"
      },
      "execution_count": null,
      "outputs": []
    },
    {
      "cell_type": "code",
      "source": [
        "remoto_contagem = df_limpo['remoto'].value_counts().reset_index()\n",
        "remoto_contagem.columns = ['tipo_trabalho', 'quantidade']\n",
        "\n",
        "\n",
        "fig = px.pie(remoto_contagem,\n",
        "             names = 'tipo_trabalho',\n",
        "             values = 'quantidade',\n",
        "             title='Proporção dos Tipos de Trabalhos',\n",
        "             hole=0.5 # Transforma em rosca\n",
        "             )\n",
        "fig.show()"
      ],
      "metadata": {
        "collapsed": true,
        "id": "1e79PdiKCTBA"
      },
      "execution_count": null,
      "outputs": []
    },
    {
      "cell_type": "code",
      "source": [
        "remoto_contagem = df_limpo['remoto'].value_counts().reset_index()\n",
        "remoto_contagem.columns = ['tipo_trabalho', 'quantidade']\n",
        "\n",
        "\n",
        "fig = px.pie(remoto_contagem,\n",
        "             names = 'tipo_trabalho',\n",
        "             values = 'quantidade',\n",
        "             title='Proporção dos Tipos de Trabalhos',\n",
        "             hole=0.5 # Transforma em rosca\n",
        "             )\n",
        "fig.update_traces(textinfo= 'percent+label') # Adiciona a porcentagem no gráfico\n",
        "fig.show()"
      ],
      "metadata": {
        "collapsed": true,
        "id": "9m9K6OprCfit"
      },
      "execution_count": null,
      "outputs": []
    },
    {
      "cell_type": "markdown",
      "source": [
        "---\n",
        "## Desafio"
      ],
      "metadata": {
        "id": "SHY2kzD9C0HW"
      }
    },
    {
      "cell_type": "markdown",
      "source": [
        "### Objetivo:\n",
        "Fazer um gráfico que permita visualizar o salário médio por país do cargo cientista de dados, usando o Plotly para gráficos interativos."
      ],
      "metadata": {
        "id": "c-Mun_WTSGPi"
      }
    },
    {
      "cell_type": "markdown",
      "source": [
        "Importando Bibliotecas"
      ],
      "metadata": {
        "id": "7ntTvqycS_Yx"
      }
    },
    {
      "cell_type": "code",
      "source": [
        "import pandas as pd"
      ],
      "metadata": {
        "id": "lplbFrNPS_Yy"
      },
      "execution_count": 1,
      "outputs": []
    },
    {
      "cell_type": "code",
      "source": [
        "# Importando a biblioteca plotly\n",
        "import plotly.express as px"
      ],
      "metadata": {
        "id": "2OE74tFATNRR"
      },
      "execution_count": 2,
      "outputs": []
    },
    {
      "cell_type": "code",
      "source": [
        "# Importando a biblioteca seaborn\n",
        "import seaborn as sns"
      ],
      "metadata": {
        "id": "5FmSF4BITaGO"
      },
      "execution_count": 3,
      "outputs": []
    },
    {
      "cell_type": "code",
      "source": [
        "# Importando a biblioteca matplotlib\n",
        "import matplotlib.pyplot as plt"
      ],
      "metadata": {
        "id": "orXhIcsDTaGO"
      },
      "execution_count": 4,
      "outputs": []
    },
    {
      "cell_type": "markdown",
      "source": [
        "Importando Base de Dados"
      ],
      "metadata": {
        "id": "EtZ9fszITD7y"
      }
    },
    {
      "cell_type": "code",
      "source": [
        "# Importação da base de Dados\n",
        "df = pd.read_csv(\"https://raw.githubusercontent.com/guilhermeonrails/data-jobs/refs/heads/main/salaries.csv\")\n",
        "# df = DataFrame"
      ],
      "metadata": {
        "id": "F4B6XYwSS_Yy"
      },
      "execution_count": 5,
      "outputs": []
    },
    {
      "cell_type": "markdown",
      "source": [
        "Renomeando"
      ],
      "metadata": {
        "id": "63GJXXXAS_Yz"
      }
    },
    {
      "cell_type": "code",
      "metadata": {
        "id": "32arR2nbS_Yz"
      },
      "source": [
        "# Recarregar o DataFrame para garantir que não seja None\n",
        "df = pd.read_csv(\"https://raw.githubusercontent.com/guilhermeonrails/data-jobs/refs/heads/main/salaries.csv\")\n",
        "\n",
        "# Alterar os nomes das colunas para português brasileiro\n",
        "mapeamento_colunas = {\n",
        "    'work_year': 'ano',\n",
        "    'experience_level': 'senioridade',\n",
        "    'employment_type': 'contrato',\n",
        "    'job_title': 'cargo',\n",
        "    'salary': 'salario',\n",
        "    'salary_currency': 'moeda',\n",
        "    'salary_in_usd': 'usd',\n",
        "    'employee_residence': 'residencia',\n",
        "    'remote_ratio': 'remoto',\n",
        "    'company_location': 'empresa',\n",
        "    'company_size': 'tamanho_empresa'\n",
        "}\n",
        "\n",
        "# Renomear as colunas do DataFrame\n",
        "df = df.rename(columns=mapeamento_colunas)\n",
        "\n",
        "# Exibir os novos nomes das colunas para verificar\n",
        "print(df.columns)"
      ],
      "execution_count": null,
      "outputs": []
    },
    {
      "cell_type": "markdown",
      "source": [
        "Modificando o nome das categorias:"
      ],
      "metadata": {
        "id": "CAAhAGugS_Y0"
      }
    },
    {
      "cell_type": "code",
      "source": [
        "# Tradução das categorias de senioridade para português brasileiro\n",
        "mapeamento_senioridade = {\n",
        "    'EN': 'Junior',\n",
        "    'MI': 'Pleno',\n",
        "    'SE': 'Senior',\n",
        "    'EX': 'Executivo'\n",
        "}\n",
        "\n",
        "# Substituir os valores na coluna 'senioridade'\n",
        "df['senioridade'] = df['senioridade'].replace(mapeamento_senioridade)\n",
        "\n",
        "# Exibir a contagem de valores para verificar a tradução\n",
        "df['senioridade'].value_counts()"
      ],
      "metadata": {
        "id": "behBOEPtS_Y0"
      },
      "execution_count": null,
      "outputs": []
    },
    {
      "cell_type": "code",
      "source": [
        "# Tradução das categorias de contrato para português brasileiro\n",
        "mapeamento_contrato = {\n",
        "    'FT': 'Tempo Integral',\n",
        "    'PT': 'Meio Período',\n",
        "    'FL': 'Freelance',\n",
        "    'CT': 'Contrato'\n",
        "}\n",
        "\n",
        "# Substituir os valores na coluna 'contrato'\n",
        "df['contrato'] = df['contrato'].replace(mapeamento_contrato)\n",
        "\n",
        "# Exibir a contagem de valores para verificar a tradução\n",
        "df['contrato'].value_counts()"
      ],
      "metadata": {
        "id": "h9ze9RPBS_Y1"
      },
      "execution_count": null,
      "outputs": []
    },
    {
      "cell_type": "code",
      "source": [
        "# Tradução das categorias de remoto para português brasileiro\n",
        "mapeamento_remoto = {\n",
        "    0: 'Presencial',\n",
        "    50: 'Híbrido',\n",
        "    100: 'Remoto'\n",
        "}\n",
        "\n",
        "# Substituir os valores na coluna 'remoto'\n",
        "df['remoto'] = df['remoto'].replace(mapeamento_remoto)\n",
        "\n",
        "# Exibir a contagem de valores para verificar a tradução\n",
        "df['remoto'].value_counts()"
      ],
      "metadata": {
        "id": "5ZaVrsYCS_Y1"
      },
      "execution_count": null,
      "outputs": []
    },
    {
      "cell_type": "code",
      "source": [
        "# Tradução das categorias de tamanho_empresa para português brasileiro\n",
        "mapeamento_tamanho_empresa = {\n",
        "    'S': 'Pequena',\n",
        "    'M': 'Média',\n",
        "    'L': 'Grande'\n",
        "}\n",
        "\n",
        "# Substituir os valores na coluna 'tamanho_empresa'\n",
        "df['tamanho_empresa'] = df['tamanho_empresa'].replace(mapeamento_tamanho_empresa)\n",
        "\n",
        "# Exibir a contagem de valores para verificar a tradução\n",
        "df['tamanho_empresa'].value_counts()"
      ],
      "metadata": {
        "id": "gpuABV1OS_Y2"
      },
      "execution_count": null,
      "outputs": []
    },
    {
      "cell_type": "markdown",
      "source": [
        "---\n",
        "Criando nova variável para sanitização."
      ],
      "metadata": {
        "id": "85nO-o41S_Y2"
      }
    },
    {
      "cell_type": "code",
      "source": [
        "'''\n",
        "Criando uma nova variável para tratar a base de dados e\n",
        "Excluindo os valores Null\n",
        "'''\n",
        "df_limpo = df.dropna()"
      ],
      "metadata": {
        "id": "qHBZLpBZS_Y3"
      },
      "execution_count": 11,
      "outputs": []
    },
    {
      "cell_type": "markdown",
      "source": [
        "---\n",
        "Convertendo o tipo de variável da coluna 'ano'"
      ],
      "metadata": {
        "id": "PQAOQpC0S_Y3"
      }
    },
    {
      "cell_type": "code",
      "source": [
        "df_limpo = df_limpo.assign(ano=df_limpo['ano'].astype('int64'))"
      ],
      "metadata": {
        "id": "aOUkuK5-S_Y4"
      },
      "execution_count": 12,
      "outputs": []
    },
    {
      "cell_type": "markdown",
      "source": [
        "---\n",
        "Filtrando qual conjunto de dados deve ser informado"
      ],
      "metadata": {
        "id": "OrSdA5RtTzxZ"
      }
    },
    {
      "cell_type": "code",
      "source": [
        "'''\n",
        "Base\n",
        "# Filtrar o DataFrame para mostrar apenas as linhas onde 'residencia' é 'US'\n",
        "df_US = df[df['residencia'] == 'US']\n",
        "\n",
        "# Exibir as primeiras linhas do DataFrame filtrado\n",
        "df_US.head()\n",
        "'''"
      ],
      "metadata": {
        "id": "iNPgjoPzTzxa"
      },
      "execution_count": null,
      "outputs": []
    },
    {
      "cell_type": "code",
      "source": [
        "# Filtro do DataFrame tratado para mostrar apenas as linhas onde 'cargo' é 'Data Scientist'\n",
        "df_DS = df_limpo[df_limpo['cargo'] == 'Data Scientist']\n",
        "\n",
        "# Exibir as primeiras linhas do DataFrame filtrado\n",
        "df_DS.head()"
      ],
      "metadata": {
        "id": "6dWPdAzQVhlV"
      },
      "execution_count": null,
      "outputs": []
    },
    {
      "cell_type": "markdown",
      "source": [
        "---\n",
        "Gráfico Interativo"
      ],
      "metadata": {
        "id": "X3eacBsZaNFk"
      }
    },
    {
      "cell_type": "code",
      "source": [
        "ordem = df_DS.groupby('residencia')['usd'].mean().round(2).sort_values(ascending= False).reset_index()\n",
        "\n",
        "fig = px.bar(ordem,\n",
        "             x='residencia',\n",
        "             y='usd',\n",
        "             title='Salário Médio de Cientista de Dados por País',\n",
        "             labels= {'residencia': \"País\", \"usd\": 'Média Salarial Anual (USD)'})\n",
        "\n",
        "# Melhorar layout\n",
        "fig.update_layout(\n",
        "    showlegend=False,\n",
        "    height=800\n",
        ")\n",
        "fig.show()"
      ],
      "metadata": {
        "colab": {
          "base_uri": "https://localhost:8080/",
          "height": 817
        },
        "id": "cvRORFPPaFtu",
        "outputId": "a261e521-5581-4adb-ea13-d4c42ae424e0"
      },
      "execution_count": 54,
      "outputs": [
        {
          "output_type": "display_data",
          "data": {
            "text/html": [
              "<html>\n",
              "<head><meta charset=\"utf-8\" /></head>\n",
              "<body>\n",
              "    <div>            <script src=\"https://cdnjs.cloudflare.com/ajax/libs/mathjax/2.7.5/MathJax.js?config=TeX-AMS-MML_SVG\"></script><script type=\"text/javascript\">if (window.MathJax && window.MathJax.Hub && window.MathJax.Hub.Config) {window.MathJax.Hub.Config({SVG: {font: \"STIX-Web\"}});}</script>                <script type=\"text/javascript\">window.PlotlyConfig = {MathJaxConfig: 'local'};</script>\n",
              "        <script charset=\"utf-8\" src=\"https://cdn.plot.ly/plotly-2.35.2.min.js\"></script>                <div id=\"8690f26d-3ef4-4f44-8ad4-379117968d32\" class=\"plotly-graph-div\" style=\"height:800px; width:100%;\"></div>            <script type=\"text/javascript\">                                    window.PLOTLYENV=window.PLOTLYENV || {};                                    if (document.getElementById(\"8690f26d-3ef4-4f44-8ad4-379117968d32\")) {                    Plotly.newPlot(                        \"8690f26d-3ef4-4f44-8ad4-379117968d32\",                        [{\"alignmentgroup\":\"True\",\"hovertemplate\":\"País=%{x}\\u003cbr\\u003eMédia Salarial Anual (USD)=%{y}\\u003cextra\\u003e\\u003c\\u002fextra\\u003e\",\"legendgroup\":\"\",\"marker\":{\"color\":\"#636efa\",\"pattern\":{\"shape\":\"\"}},\"name\":\"\",\"offsetgroup\":\"\",\"orientation\":\"v\",\"showlegend\":false,\"textposition\":\"auto\",\"x\":[\"US\",\"SG\",\"BG\",\"CH\",\"EG\",\"CA\",\"MX\",\"NZ\",\"JP\",\"AU\",\"IT\",\"DO\",\"DZ\",\"KR\",\"DE\",\"FR\",\"IE\",\"PT\",\"NO\",\"SE\",\"GB\",\"UA\",\"PH\",\"BR\",\"PL\",\"UZ\",\"NL\",\"CL\",\"BE\",\"RU\",\"HK\",\"CY\",\"LT\",\"LV\",\"AD\",\"AT\",\"NG\",\"KE\",\"ES\",\"TR\",\"ZA\",\"FI\",\"IN\",\"GR\",\"AR\",\"EE\",\"RO\",\"SK\",\"TH\",\"RS\",\"HU\",\"PK\",\"TW\",\"EC\"],\"xaxis\":\"x\",\"y\":[162802.49,152522.71,152500.0,152256.67,140690.91,140519.98,140466.67,122929.75,121766.67,112190.0,111401.08,110000.0,100000.0,99272.0,92253.81,90878.25,89145.39,88888.25,88462.0,87157.5,86264.06,85000.0,76864.0,73720.91,73466.56,73000.0,70070.94,69346.0,66790.75,66500.0,65058.0,63701.0,62762.0,61688.5,50745.0,50342.07,50000.0,50000.0,46421.42,45019.0,44871.75,43611.0,42784.13,42683.67,42000.0,40000.0,39992.0,30522.4,26957.0,25532.0,23935.75,21000.0,17282.5,16000.0],\"yaxis\":\"y\",\"type\":\"bar\"}],                        {\"template\":{\"data\":{\"histogram2dcontour\":[{\"type\":\"histogram2dcontour\",\"colorbar\":{\"outlinewidth\":0,\"ticks\":\"\"},\"colorscale\":[[0.0,\"#0d0887\"],[0.1111111111111111,\"#46039f\"],[0.2222222222222222,\"#7201a8\"],[0.3333333333333333,\"#9c179e\"],[0.4444444444444444,\"#bd3786\"],[0.5555555555555556,\"#d8576b\"],[0.6666666666666666,\"#ed7953\"],[0.7777777777777778,\"#fb9f3a\"],[0.8888888888888888,\"#fdca26\"],[1.0,\"#f0f921\"]]}],\"choropleth\":[{\"type\":\"choropleth\",\"colorbar\":{\"outlinewidth\":0,\"ticks\":\"\"}}],\"histogram2d\":[{\"type\":\"histogram2d\",\"colorbar\":{\"outlinewidth\":0,\"ticks\":\"\"},\"colorscale\":[[0.0,\"#0d0887\"],[0.1111111111111111,\"#46039f\"],[0.2222222222222222,\"#7201a8\"],[0.3333333333333333,\"#9c179e\"],[0.4444444444444444,\"#bd3786\"],[0.5555555555555556,\"#d8576b\"],[0.6666666666666666,\"#ed7953\"],[0.7777777777777778,\"#fb9f3a\"],[0.8888888888888888,\"#fdca26\"],[1.0,\"#f0f921\"]]}],\"heatmap\":[{\"type\":\"heatmap\",\"colorbar\":{\"outlinewidth\":0,\"ticks\":\"\"},\"colorscale\":[[0.0,\"#0d0887\"],[0.1111111111111111,\"#46039f\"],[0.2222222222222222,\"#7201a8\"],[0.3333333333333333,\"#9c179e\"],[0.4444444444444444,\"#bd3786\"],[0.5555555555555556,\"#d8576b\"],[0.6666666666666666,\"#ed7953\"],[0.7777777777777778,\"#fb9f3a\"],[0.8888888888888888,\"#fdca26\"],[1.0,\"#f0f921\"]]}],\"heatmapgl\":[{\"type\":\"heatmapgl\",\"colorbar\":{\"outlinewidth\":0,\"ticks\":\"\"},\"colorscale\":[[0.0,\"#0d0887\"],[0.1111111111111111,\"#46039f\"],[0.2222222222222222,\"#7201a8\"],[0.3333333333333333,\"#9c179e\"],[0.4444444444444444,\"#bd3786\"],[0.5555555555555556,\"#d8576b\"],[0.6666666666666666,\"#ed7953\"],[0.7777777777777778,\"#fb9f3a\"],[0.8888888888888888,\"#fdca26\"],[1.0,\"#f0f921\"]]}],\"contourcarpet\":[{\"type\":\"contourcarpet\",\"colorbar\":{\"outlinewidth\":0,\"ticks\":\"\"}}],\"contour\":[{\"type\":\"contour\",\"colorbar\":{\"outlinewidth\":0,\"ticks\":\"\"},\"colorscale\":[[0.0,\"#0d0887\"],[0.1111111111111111,\"#46039f\"],[0.2222222222222222,\"#7201a8\"],[0.3333333333333333,\"#9c179e\"],[0.4444444444444444,\"#bd3786\"],[0.5555555555555556,\"#d8576b\"],[0.6666666666666666,\"#ed7953\"],[0.7777777777777778,\"#fb9f3a\"],[0.8888888888888888,\"#fdca26\"],[1.0,\"#f0f921\"]]}],\"surface\":[{\"type\":\"surface\",\"colorbar\":{\"outlinewidth\":0,\"ticks\":\"\"},\"colorscale\":[[0.0,\"#0d0887\"],[0.1111111111111111,\"#46039f\"],[0.2222222222222222,\"#7201a8\"],[0.3333333333333333,\"#9c179e\"],[0.4444444444444444,\"#bd3786\"],[0.5555555555555556,\"#d8576b\"],[0.6666666666666666,\"#ed7953\"],[0.7777777777777778,\"#fb9f3a\"],[0.8888888888888888,\"#fdca26\"],[1.0,\"#f0f921\"]]}],\"mesh3d\":[{\"type\":\"mesh3d\",\"colorbar\":{\"outlinewidth\":0,\"ticks\":\"\"}}],\"scatter\":[{\"fillpattern\":{\"fillmode\":\"overlay\",\"size\":10,\"solidity\":0.2},\"type\":\"scatter\"}],\"parcoords\":[{\"type\":\"parcoords\",\"line\":{\"colorbar\":{\"outlinewidth\":0,\"ticks\":\"\"}}}],\"scatterpolargl\":[{\"type\":\"scatterpolargl\",\"marker\":{\"colorbar\":{\"outlinewidth\":0,\"ticks\":\"\"}}}],\"bar\":[{\"error_x\":{\"color\":\"#2a3f5f\"},\"error_y\":{\"color\":\"#2a3f5f\"},\"marker\":{\"line\":{\"color\":\"#E5ECF6\",\"width\":0.5},\"pattern\":{\"fillmode\":\"overlay\",\"size\":10,\"solidity\":0.2}},\"type\":\"bar\"}],\"scattergeo\":[{\"type\":\"scattergeo\",\"marker\":{\"colorbar\":{\"outlinewidth\":0,\"ticks\":\"\"}}}],\"scatterpolar\":[{\"type\":\"scatterpolar\",\"marker\":{\"colorbar\":{\"outlinewidth\":0,\"ticks\":\"\"}}}],\"histogram\":[{\"marker\":{\"pattern\":{\"fillmode\":\"overlay\",\"size\":10,\"solidity\":0.2}},\"type\":\"histogram\"}],\"scattergl\":[{\"type\":\"scattergl\",\"marker\":{\"colorbar\":{\"outlinewidth\":0,\"ticks\":\"\"}}}],\"scatter3d\":[{\"type\":\"scatter3d\",\"line\":{\"colorbar\":{\"outlinewidth\":0,\"ticks\":\"\"}},\"marker\":{\"colorbar\":{\"outlinewidth\":0,\"ticks\":\"\"}}}],\"scattermapbox\":[{\"type\":\"scattermapbox\",\"marker\":{\"colorbar\":{\"outlinewidth\":0,\"ticks\":\"\"}}}],\"scatterternary\":[{\"type\":\"scatterternary\",\"marker\":{\"colorbar\":{\"outlinewidth\":0,\"ticks\":\"\"}}}],\"scattercarpet\":[{\"type\":\"scattercarpet\",\"marker\":{\"colorbar\":{\"outlinewidth\":0,\"ticks\":\"\"}}}],\"carpet\":[{\"aaxis\":{\"endlinecolor\":\"#2a3f5f\",\"gridcolor\":\"white\",\"linecolor\":\"white\",\"minorgridcolor\":\"white\",\"startlinecolor\":\"#2a3f5f\"},\"baxis\":{\"endlinecolor\":\"#2a3f5f\",\"gridcolor\":\"white\",\"linecolor\":\"white\",\"minorgridcolor\":\"white\",\"startlinecolor\":\"#2a3f5f\"},\"type\":\"carpet\"}],\"table\":[{\"cells\":{\"fill\":{\"color\":\"#EBF0F8\"},\"line\":{\"color\":\"white\"}},\"header\":{\"fill\":{\"color\":\"#C8D4E3\"},\"line\":{\"color\":\"white\"}},\"type\":\"table\"}],\"barpolar\":[{\"marker\":{\"line\":{\"color\":\"#E5ECF6\",\"width\":0.5},\"pattern\":{\"fillmode\":\"overlay\",\"size\":10,\"solidity\":0.2}},\"type\":\"barpolar\"}],\"pie\":[{\"automargin\":true,\"type\":\"pie\"}]},\"layout\":{\"autotypenumbers\":\"strict\",\"colorway\":[\"#636efa\",\"#EF553B\",\"#00cc96\",\"#ab63fa\",\"#FFA15A\",\"#19d3f3\",\"#FF6692\",\"#B6E880\",\"#FF97FF\",\"#FECB52\"],\"font\":{\"color\":\"#2a3f5f\"},\"hovermode\":\"closest\",\"hoverlabel\":{\"align\":\"left\"},\"paper_bgcolor\":\"white\",\"plot_bgcolor\":\"#E5ECF6\",\"polar\":{\"bgcolor\":\"#E5ECF6\",\"angularaxis\":{\"gridcolor\":\"white\",\"linecolor\":\"white\",\"ticks\":\"\"},\"radialaxis\":{\"gridcolor\":\"white\",\"linecolor\":\"white\",\"ticks\":\"\"}},\"ternary\":{\"bgcolor\":\"#E5ECF6\",\"aaxis\":{\"gridcolor\":\"white\",\"linecolor\":\"white\",\"ticks\":\"\"},\"baxis\":{\"gridcolor\":\"white\",\"linecolor\":\"white\",\"ticks\":\"\"},\"caxis\":{\"gridcolor\":\"white\",\"linecolor\":\"white\",\"ticks\":\"\"}},\"coloraxis\":{\"colorbar\":{\"outlinewidth\":0,\"ticks\":\"\"}},\"colorscale\":{\"sequential\":[[0.0,\"#0d0887\"],[0.1111111111111111,\"#46039f\"],[0.2222222222222222,\"#7201a8\"],[0.3333333333333333,\"#9c179e\"],[0.4444444444444444,\"#bd3786\"],[0.5555555555555556,\"#d8576b\"],[0.6666666666666666,\"#ed7953\"],[0.7777777777777778,\"#fb9f3a\"],[0.8888888888888888,\"#fdca26\"],[1.0,\"#f0f921\"]],\"sequentialminus\":[[0.0,\"#0d0887\"],[0.1111111111111111,\"#46039f\"],[0.2222222222222222,\"#7201a8\"],[0.3333333333333333,\"#9c179e\"],[0.4444444444444444,\"#bd3786\"],[0.5555555555555556,\"#d8576b\"],[0.6666666666666666,\"#ed7953\"],[0.7777777777777778,\"#fb9f3a\"],[0.8888888888888888,\"#fdca26\"],[1.0,\"#f0f921\"]],\"diverging\":[[0,\"#8e0152\"],[0.1,\"#c51b7d\"],[0.2,\"#de77ae\"],[0.3,\"#f1b6da\"],[0.4,\"#fde0ef\"],[0.5,\"#f7f7f7\"],[0.6,\"#e6f5d0\"],[0.7,\"#b8e186\"],[0.8,\"#7fbc41\"],[0.9,\"#4d9221\"],[1,\"#276419\"]]},\"xaxis\":{\"gridcolor\":\"white\",\"linecolor\":\"white\",\"ticks\":\"\",\"title\":{\"standoff\":15},\"zerolinecolor\":\"white\",\"automargin\":true,\"zerolinewidth\":2},\"yaxis\":{\"gridcolor\":\"white\",\"linecolor\":\"white\",\"ticks\":\"\",\"title\":{\"standoff\":15},\"zerolinecolor\":\"white\",\"automargin\":true,\"zerolinewidth\":2},\"scene\":{\"xaxis\":{\"backgroundcolor\":\"#E5ECF6\",\"gridcolor\":\"white\",\"linecolor\":\"white\",\"showbackground\":true,\"ticks\":\"\",\"zerolinecolor\":\"white\",\"gridwidth\":2},\"yaxis\":{\"backgroundcolor\":\"#E5ECF6\",\"gridcolor\":\"white\",\"linecolor\":\"white\",\"showbackground\":true,\"ticks\":\"\",\"zerolinecolor\":\"white\",\"gridwidth\":2},\"zaxis\":{\"backgroundcolor\":\"#E5ECF6\",\"gridcolor\":\"white\",\"linecolor\":\"white\",\"showbackground\":true,\"ticks\":\"\",\"zerolinecolor\":\"white\",\"gridwidth\":2}},\"shapedefaults\":{\"line\":{\"color\":\"#2a3f5f\"}},\"annotationdefaults\":{\"arrowcolor\":\"#2a3f5f\",\"arrowhead\":0,\"arrowwidth\":1},\"geo\":{\"bgcolor\":\"white\",\"landcolor\":\"#E5ECF6\",\"subunitcolor\":\"white\",\"showland\":true,\"showlakes\":true,\"lakecolor\":\"white\"},\"title\":{\"x\":0.05},\"mapbox\":{\"style\":\"light\"}}},\"xaxis\":{\"anchor\":\"y\",\"domain\":[0.0,1.0],\"title\":{\"text\":\"País\"}},\"yaxis\":{\"anchor\":\"x\",\"domain\":[0.0,1.0],\"title\":{\"text\":\"Média Salarial Anual (USD)\"}},\"legend\":{\"tracegroupgap\":0},\"title\":{\"text\":\"Salário Médio de Cientista de Dados por País\"},\"barmode\":\"relative\",\"showlegend\":false,\"height\":800},                        {\"responsive\": true}                    ).then(function(){\n",
              "                            \n",
              "var gd = document.getElementById('8690f26d-3ef4-4f44-8ad4-379117968d32');\n",
              "var x = new MutationObserver(function (mutations, observer) {{\n",
              "        var display = window.getComputedStyle(gd).display;\n",
              "        if (!display || display === 'none') {{\n",
              "            console.log([gd, 'removed!']);\n",
              "            Plotly.purge(gd);\n",
              "            observer.disconnect();\n",
              "        }}\n",
              "}});\n",
              "\n",
              "// Listen for the removal of the full notebook cells\n",
              "var notebookContainer = gd.closest('#notebook-container');\n",
              "if (notebookContainer) {{\n",
              "    x.observe(notebookContainer, {childList: true});\n",
              "}}\n",
              "\n",
              "// Listen for the clearing of the current output cell\n",
              "var outputEl = gd.closest('.output');\n",
              "if (outputEl) {{\n",
              "    x.observe(outputEl, {childList: true});\n",
              "}}\n",
              "\n",
              "                        })                };                            </script>        </div>\n",
              "</body>\n",
              "</html>"
            ]
          },
          "metadata": {}
        }
      ]
    }
  ]
}